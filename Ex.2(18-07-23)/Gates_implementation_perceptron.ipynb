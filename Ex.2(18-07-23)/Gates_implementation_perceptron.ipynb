{
 "cells": [
  {
   "cell_type": "code",
   "execution_count": 32,
   "id": "bbd3dbb6",
   "metadata": {},
   "outputs": [],
   "source": [
    "import numpy as np\n",
    "#1 = 2\n",
    "#2 = 0\n",
    "#y = [0,1,0,1]\n",
    "\n",
    "\n",
    "def rect_func(x):\n",
    "    if x<=0 :\n",
    "        return 0\n",
    "    else :\n",
    "        return 1\n",
    "\n",
    "def AND(x1,x2):\n",
    "    w1 = 1\n",
    "    w2 = 1\n",
    "    b = -1\n",
    "\n",
    "    y = w1*x1 + w2*x2 + b\n",
    "    y = rect_func(y)\n",
    "    return y\n",
    "\n",
    "def OR(x1,x2):\n",
    "    w1 = 2\n",
    "    w2 = 2\n",
    "    b = -1\n",
    "\n",
    "    y = w1*x1 + w2*x2 + b\n",
    "    y = rect_func(y)\n",
    "    return y\n",
    "\n",
    "def NAND (x1,x2):\n",
    "    w1 = -1\n",
    "    w2 = -1\n",
    "    b = 2\n",
    "\n",
    "    y = w1*x1 + w2*x2 + b\n",
    "    y = rect_func(y)\n",
    "    return y\n",
    "\n",
    "def NOR(x1,x2):\n",
    "    w1 =-1\n",
    "    w2 =-1\n",
    "    b = 1\n",
    "\n",
    "    y = w1*x1 + w2*x2 + b\n",
    "    y = rect_func(y)\n",
    "    return y\n",
    "\n",
    "def not_gate(x1):\n",
    "    w1=-1\n",
    "    b=0.5\n",
    "    y = w1 * x1 + b\n",
    "    y=rect_func(y)\n",
    "    return y\n",
    "def tautology(x1,x2):\n",
    "    w1 = 0\n",
    "    w2 = 0\n",
    "    b = 2\n",
    "\n",
    "    y = w1*x1 + w2*x2 + b\n",
    "    y = rect_func(y)\n",
    "    return y\n",
    "\n",
    "def xor(x1,x2):\n",
    "    y1=AND(x1,x2)\n",
    "    y2=not_gate(y1)\n",
    "    y3=OR(x1,x2)\n",
    "    y=AND(y3,y2)\n",
    "    y=rect_func(y)\n",
    "    return y\n",
    "def xnor(x1,x2):\n",
    "    y1=OR(x1,x2)\n",
    "    y2=not_gate(y1)\n",
    "    y3=AND(x1,x2)\n",
    "    y=OR(y3,y2)\n",
    "    y=rect_func(y)\n",
    "    return y\n",
    "\n",
    "#or(2,0)"
   ]
  },
  {
   "cell_type": "code",
   "execution_count": 27,
   "id": "8f3dc52b",
   "metadata": {},
   "outputs": [
    {
     "data": {
      "text/plain": [
       "0"
      ]
     },
     "execution_count": 27,
     "metadata": {},
     "output_type": "execute_result"
    }
   ],
   "source": [
    "AND(1,0)"
   ]
  },
  {
   "cell_type": "code",
   "execution_count": 28,
   "id": "37ce5bf1",
   "metadata": {},
   "outputs": [
    {
     "data": {
      "text/plain": [
       "0"
      ]
     },
     "execution_count": 28,
     "metadata": {},
     "output_type": "execute_result"
    }
   ],
   "source": [
    "not_gate(1)"
   ]
  },
  {
   "cell_type": "code",
   "execution_count": 29,
   "id": "38347401",
   "metadata": {},
   "outputs": [
    {
     "data": {
      "text/plain": [
       "0"
      ]
     },
     "execution_count": 29,
     "metadata": {},
     "output_type": "execute_result"
    }
   ],
   "source": [
    "xor(1,1)"
   ]
  },
  {
   "cell_type": "code",
   "execution_count": 33,
   "id": "1a9d6199",
   "metadata": {},
   "outputs": [
    {
     "data": {
      "text/plain": [
       "1"
      ]
     },
     "execution_count": 33,
     "metadata": {},
     "output_type": "execute_result"
    }
   ],
   "source": [
    "xnor(1,1)"
   ]
  }
 ],
 "metadata": {
  "kernelspec": {
   "display_name": "Python 3 (ipykernel)",
   "language": "python",
   "name": "python3"
  },
  "language_info": {
   "codemirror_mode": {
    "name": "ipython",
    "version": 3
   },
   "file_extension": ".py",
   "mimetype": "text/x-python",
   "name": "python",
   "nbconvert_exporter": "python",
   "pygments_lexer": "ipython3",
   "version": "3.9.16"
  }
 },
 "nbformat": 4,
 "nbformat_minor": 5
}
